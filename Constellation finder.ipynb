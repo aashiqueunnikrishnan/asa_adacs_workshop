{
 "cells": [
  {
   "cell_type": "code",
   "execution_count": 1,
   "id": "d846b788",
   "metadata": {},
   "outputs": [],
   "source": [
    "import astropy.units as u\n",
    "from astropy.coordinates import SkyCoord\n",
    "import astropy.coordinates\n",
    "ra = str(input(\"Enter the Star's RA in hh:mm:ss format: \"))\n",
    "dec = str(input(\"Enter the Star's Dec in dd:mm:ss format: \"))\n",
    "coords = SkyCoord(ra, dec, unit = (u.hourangle, u.deg))\n",
    "astropy.coordinates.get_constellation(coords, short_name=False, constellation_list = 'iau')"
   ]
  },
  {
   "cell_type": "code",
   "execution_count": 75,
   "id": "814c8d27",
   "metadata": {},
   "outputs": [],
   "source": [
    "ra = '05:45:10.305'\n",
    "dec = '-08:00:25.430'\n",
    "coords = SkyCoord(ra, dec, unit = (u.hourangle, u.deg))"
   ]
  },
  {
   "cell_type": "code",
   "execution_count": 77,
   "id": "d8a4be3b",
   "metadata": {},
   "outputs": [
    {
     "data": {
      "text/plain": [
       "'Orion'"
      ]
     },
     "execution_count": 77,
     "metadata": {},
     "output_type": "execute_result"
    }
   ],
   "source": [
    "astropy.coordinates.get_constellation(coords, short_name=False, constellation_list = 'iau')"
   ]
  }
 ],
 "metadata": {
  "kernelspec": {
   "display_name": "Python 3 (ipykernel)",
   "language": "python",
   "name": "python3"
  },
  "language_info": {
   "codemirror_mode": {
    "name": "ipython",
    "version": 3
   },
   "file_extension": ".py",
   "mimetype": "text/x-python",
   "name": "python",
   "nbconvert_exporter": "python",
   "pygments_lexer": "ipython3",
   "version": "3.9.12"
  }
 },
 "nbformat": 4,
 "nbformat_minor": 5
}
